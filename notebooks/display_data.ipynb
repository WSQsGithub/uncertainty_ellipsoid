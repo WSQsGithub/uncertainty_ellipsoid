{
 "cells": [
  {
   "cell_type": "code",
   "execution_count": 1,
   "metadata": {},
   "outputs": [],
   "source": [
    "%load_ext autoreload\n",
    "%autoreload 2"
   ]
  },
  {
   "cell_type": "code",
   "execution_count": 2,
   "metadata": {},
   "outputs": [
    {
     "name": "stderr",
     "output_type": "stream",
     "text": [
      "\u001b[32m2025-02-05 21:51:05.522\u001b[0m | \u001b[1mINFO    \u001b[0m | \u001b[36muncertainty_ellipsoid.config\u001b[0m:\u001b[36m<module>\u001b[0m:\u001b[36m11\u001b[0m - \u001b[1mPROJ_ROOT path is: /Users/wsq/Codespace/2025/uncertainty_ellipsoid\u001b[0m\n"
     ]
    }
   ],
   "source": [
    "import plotly.graph_objects as go\n",
    "from uncertainty_ellipsoid.config import PROCESSED_DATA_DIR\n",
    "from uncertainty_ellipsoid.dataset import get_dataloader"
   ]
  },
  {
   "cell_type": "code",
   "execution_count": 5,
   "metadata": {},
   "outputs": [],
   "source": [
    "# 创建数据加载器\n",
    "dataloader = get_dataloader(\n",
    "    h5_path=PROCESSED_DATA_DIR / \"dataset.h5\",\n",
    "    batch_size=4,  \n",
    "    shuffle=True,\n",
    "    num_workers=0\n",
    ")"
   ]
  },
  {
   "cell_type": "code",
   "execution_count": 9,
   "metadata": {},
   "outputs": [
    {
     "data": {
      "application/vnd.plotly.v1+json": {
       "config": {
        "plotlyServerURL": "https://plot.ly"
       },
       "data": [
        {
         "marker": {
          "opacity": 0.6,
          "size": 2
         },
         "mode": "markers",
         "name": "Sample 1 (u=444.7, v=553.3, d=0.25)",
         "scene": "scene",
         "type": "scatter3d",
         "x": {
          "bdata": "tyNmPuayXD1RTk4+v8xwPhN47j2RWfo96bJ6PRii9D14Ouw9nUwkPiRgsT1kqVw9dNQaPm1jhjyelQs9ufUqPaiN+z2DmQ0+IDBHPoCUVD4lOOC6NDvGPTqAWz5oV8w9Oyw6PVkIVz4NWRI+Zg8UPH3fuzyvUig+NTEWPcJKfj00Zgo+VJLwPV+LPj2gIC899cQiPrqQhD2P2ro9Wc6RPUKHij25HxI+d8JcPlszsz2hcIU9jReNPUVfzz2CTCQ+qkJuPnwKHD5MKzw+ETCFPGfoPT5z+3I9b787PffW4z1XyQk+dbyJPUw1PT5ePE49FmUrPkuuAz7atPk8UjMmPtXlhD0UqqO8SNcyPq1h5T3YEQo+R3xsPin0HT4IRwY+vJzGPVsOjzuDjjM+Q09HPiF4Tj1y1Qk+D3OOPTUpPT7WoCU+Mo6GPX8BUD5IreE9ha1XPs8VBz0qJwE+8DBHPTCiqT1gl6k9lTpTPbWkcD5oZK09gBS9PYfbRD6c9ka8/FIIPgvKGz5hLK49ythuPQ==",
          "dtype": "f4"
         },
         "y": {
          "bdata": "aifivuB9z77Oy8e+Esy4vkFhtL7LJOK+Du66vk9gtb6qEd2+IsK2vmRXvb5PtuC+pO/gvuyT2b7TpOa+/buwvtm5wb6zx+i+T9HGvv+e176b17++pS7Tvme/5b4ZVdq+l4yyvk6yvr5jeem+A5a4vusVzr7SHrq+8Vm0vscevr4KH8e+MfPJvt7Q0b5Qzq6+MXbOvl2iqb5C2bW+CA3Vvstorr43gdm+MaXKvhRz5r7Rwau++0i5vvg+rr6XXNS+Bdvpvhaf377cFry+jgetvhdQuL4ch+W+OtzbvkZy5b6HUc++yAjFvi22vL7pHrC+3aOxvj125r6/5LK+Oxfrvn8a4b4cHOC+KLPfvpNNrr7rmbW+tT3WvvUfvL6pSNu+zW2wvrDh2r7mibu+3fjWvr/a6L7GHri+MCPVvrtl2b6HGLW+YxyzvjqXuL5Tm7S+obSqvl1/ur65E8C+MaG1vtw55r5jZsm+Qo6yvoA5zL5mste+yOKwvmOfxb7vzK6+Oq+xvh1Htr5p/L2+9cjNvg==",
          "dtype": "f4"
         },
         "z": {
          "bdata": "Kwegu8wYZr3CXyO9A7tGvVz5OL3iiwO7DhYevSjOfr3HF2+9QzaXvRgSKb1ZUB67wI1hvDPDl7zXwla9bnWAveJuLr0TfKa90W2pvO/UNL3Gcx68Sp4LvXknhrzA7p29J1j3vDgQXr2hq0i9xXb1vGhjCr0DBAA7IhamuyDnMb1fCjO9SuaLO2HHprxS2hS9uo+avbcgpTsW0V698wLevJ+b47x+64q9mHxMvV4RZL0nhWW9XoQuvUUnjr2bXua7DBuDvapf27sMGyy9CrUCvWaHSr2+ISK9LTQwvWiA6LxnkVi7G7Xcu7MFiL3L8PG884RgvQ6tEL0d+y88HsKMvc95lL13Ljy9EE6VvYWLEL2dPeO7bP0nvTRRn73YjHq96MEsvd+lZ71BC3q9Zac5vV3ZqLwTVg+9n6oEvf0Pj73T2+q8cSkuvR9JqrwDriG9yGsUvLPjj7yh1zq9ssmHvOLI6bwzdk+9G4hevD4n1rxQgoO9/yuNvcgozLy9PLu8tIkjvPiOPb0rUyO9Y4R4vA==",
          "dtype": "f4"
         }
        },
        {
         "marker": {
          "opacity": 0.6,
          "size": 2
         },
         "mode": "markers",
         "name": "Sample 2 (u=146.4, v=609.7, d=0.45)",
         "scene": "scene2",
         "type": "scatter3d",
         "x": {
          "bdata": "dMCKvQIlqj0Ayhg8v2oNvs6dV77dWY08o+XLPJ7Xcr4M3LC+T02pPE5Iwb3OBRS++Uamvl8ELr6PbTy+TgdGvhx/Zrpsh+Q7zTKEvU3hpjw0z74824/rvfC0dTtYAJW+/yOJvjyusD3a4N69tOhNvgI4krxtTrG+2LmnvscqiL5h3Yk9NE0Svb2Sr71Yuxu9L1lFvpwYYr5QgfC9Kz4fPShkeL40F649xGjOvA9vWL3mY5G+asAgvkeiEj1Jfxm+4G4IvkdmM74mlw89IYy+vTA+Tr7OpKq+L8iMvl3grr5/rJq+00c+vQv4EryK2hq9XdCtPSBAML1kPGu9jL6ju/lBnb5hS0C+qNRpvE1vNb5Kk4e+U8PyvYkdhb6S7IA9X0JjvnMFfL42+Y89EnAevtigBb6dJq29EPlzvkrDgT1mm509FuehPRz4/Lw+Gp++9chsPc1Sir64VES9Oq58vswezDpAGxA8LTRIvtpiHr5Ww8K9UBkGvWP4jL2YPna+WSEUvt3pt7ygAJk96GYvvg==",
          "dtype": "f4"
         },
         "y": {
          "bdata": "B00Rv0rc/74Brhm/mWIOv/O/Br9ZCwu/QKkTv8kT9r5nIQi/PVYIvzNmGr9pXfi+QrENv1YXG7+FCx2/Lc/5vmWWDb+O6g6/lrIVv7kNEL+BfAS/IOQHv2kqAL+40Qa/PZ4Cv1BoB78TERO/U1n7vjgl+r5LOAG/SH0Av7F6C7+LxQS/ZhEDvxlH8b7d8xe/KjIHvw85/77GRgm/zxUavy70Fr9p2RW/PUUZv/B3Bb+Y+Aq/ME4Uv9pABL/JUBe//vYVv8nCEL8oAPy+4Cz5vvBHAL8uBPK+3SYPv7ovEr++GQK/UHQAvxNGEr9/bAK/K2b6vk++GL/BwBO/ZR0Iv/yXB79Czgy/m/4Yv1UEBb+XLBG/BbMBv1aJ6756kwu/5bXxvl/hA7/dgAC/87oYv3QqFL9A4Re/aJgQvxcc7r7QKvC+Li4Uv4MI+L4YiBO/K2sOv4vO+76uLg6/y233vrTaA7/XMw6/9hoavwm2Dr8adxO/WrQbvwwyDL9muxK//coWvwJ3FL9Gbge/JN8Lvw==",
          "dtype": "f4"
         },
         "z": {
          "bdata": "Ad6Gvr3Wlb6GrJu+cDGUvljHlL62GJS+I66KvpXcn757E7G+/F+gvlmTkL75OK6+rI6GvrAfjr62mpO+y9iBvho1jr6f/JW+3kSHvhZWnb7fPH2+ZI+IviiJpr79d5G+K5CCvnEtnr6xYYy+moGJvlMCk76JnIu+gXKSvtmDj77gmY2+9P2kvuuWfb7WjaC+QSCDvtcKgr4LEoa+vGmavlkumb6iO4q+DuCHvlpCjr6L+Km+zWhnvukZjb6ml66+aDqfvgdKlr4ozpW+sOuevmcYkL4oLJK+Wc6YvjKBn77Oa5m+QyeRvtake759XLC+tguIvuXNhr5CPZC+YvyavhCod76ARKq+nF+dvm9ToL4Jfq6+s8R8viSlob66UZC+IaiKvr4Dtb5/15a+SceEvqVGr76Rlpe+SmOCvprQnb7J7aK+pTWOvoSkm74XA7K+gXSevn+Hp76DnLS+bYKMvsQDoL6mbIy+I4eXvgz6jr55MZO+eeSIvmEXpb7JaoC+EjGevlIepb7VXIu+rfCXvg==",
          "dtype": "f4"
         }
        },
        {
         "marker": {
          "opacity": 0.6,
          "size": 2
         },
         "mode": "markers",
         "name": "Sample 3 (u=97.6, v=268.3, d=0.64)",
         "scene": "scene3",
         "type": "scatter3d",
         "x": {
          "bdata": "8uYZvmM9S77AOsa+nCJKvj0rRb5ea4i+9GmfvrYJUr4Wvku+KYR6vuMSRb7Mc2S+BIxBvjH9cr4mMbC+sYdMviPmTL7UYDu+GL3jvVWBLL5eJxu+zUW1vqxxmL6PDSi+i89svtYbub6dnTy+dI+/vow+s76QeK6+jZkkviSXUb6yFme+VWh8vmewgb7sCjW+3tNgvhzjjb6voom+KCqGvk23Hr5DNw2+MltOvjPwk77Z9oa+z68FvoJ3TL7db4q+59tavpY5Rr4AT56+4Wpuvrx1ib6gB4e+VKSGvr5QhL4TmWa+OEBovo/cd76pvlu+yLWFvhufW775GKG+unbfvcke7r1TFjG+EihevuM3G77DXGq+PbhAvkszor6nbj6+6taMvmqPqb5b+k2+dbtNvuVqYb4WbGG+IIaqvpttZ77fvFa+tguMvhLQuL5YqRy+l/aXvoVBX74MuVK+lF2fvvdra75ZGhu+riyHvrQblr7pxmO+G3uovs/mF76RWpq+F4GivvaWKL7L2bW+4mmDvg==",
          "dtype": "f4"
         },
         "y": {
          "bdata": "dgkSv3nAFb/R1CK/A1gZv0KRG7/RdQO/Aw8avxkDGr8IVCe/9wMEv2MyG7+k/AC/xcEBv93tNL9xkUG/fNRCvxffGr+qfiu/M8rAvt7GAL8Scdm+qTASv3raNL+myuC+MRYIv+5tML8wwRi/cu0Ov+6JE79Vuz2/h44Sv964Db+p9gu/LVUTvxowCL/w0gq/Cfb+vibTIb9bqRG/HnsIv0JXEL83XPa+XePuvi6ECr8htcm+zEY9v1AS4b41JQ6/lJkKv1nXKL9tGRu/18L9vvLmG79YeTm/54wmv20zB7/uwNi+33Iev3jXBL/vwyC/rGIov7dKL79H0wK/XjwCv6Aw+L6SESa//BPpvoUwGL8Z5dm+4y08vzKtOL+ASxq/oxYav8CdF78cEQO/NBVFv7arHr9risG+R1g9v+40+L6/Eem+7DYDv3bHEL8sZiO/SaYRvzD+CL8S/TK/HTUav7o4OL8ViQq/tlIIvx5wEb9ZNwW/KHkzv3lC8L5bKiW/Ph8qv8hmE79TXzi/FtY7vw==",
          "dtype": "f4"
         },
         "z": {
          "bdata": "RRbLvhD0Cb+fjUy+LorjvkKmj75YqIK+OQ+FvjR2Cr80fki+V/zrvuWyBr/JwPa+2uqVvmcfxL5q2Wy+gnOAvtr8wr7NncW+9NoTv2zQ175RFwC/F05dvor1rL4AKuu+wsu3vtaQ3b7cd5G+py+cvq2HeL5ru6q+Jqe8vvy21r4hB/K+ilXFvlPAy77/yAW/aXjVvshosL772Wq+LFzqvonoEb/VaPm+ouexviKHjb5Syga/G3q6vqVc874Bv/W+5HN1vvdj076M3NG+wFbGvtFqob6Eic6+wmq/vhnsyb4G3gO/y8mHvtUa0b48Mqm+AXx/vspo3L4V1Ju+cKUEv2vdqr6Ij/a+xQnHvlv4BL+rr/G+0gO2vhugn76Kb7q+vNf8vjFzwb4AO9m+f6aTvlDU0L5t5xe/eUOoviJNAb/IBwO/nYHZvjHZsL5Gh9a+4COpvvJiAL/ppsK+ugTNvgS31r6uv+y+QGyxvog1y76+5uy+V292vkoP2L7juLe+xA9vvkG28758WLa+4qfhvg==",
          "dtype": "f4"
         }
        },
        {
         "marker": {
          "opacity": 0.6,
          "size": 2
         },
         "mode": "markers",
         "name": "Sample 4 (u=68.5, v=549.8, d=0.59)",
         "scene": "scene4",
         "type": "scatter3d",
         "x": {
          "bdata": "OrxIvkNQGz23M9K9o/rnvfIVaLwYs7C9JVQpvubKxr5nG/M9l8znPbac4r5iNtw8n048vhz0I77E/UI+M9XEvFfgcTxQ+MA8H4pCvenYHj0h6bC+AaXuvVJ1v76IfiC+qZJ/vq/n8b3/W1S+s3Quvq+w+b3tdUu9jEizPOgJeTz+VHC+9mCHvqn3tb6R1j6+2qhZvjS2vb3p+b297GWPvD94qb7Fzv69nL1Dvn69lj1/O2a+IzKGvpLGEL7yE6q+Mxi0viy8tT349qI9o0BAvkpVI72rdwi+IphSvElqkL6JV3k9LZuEvtvGyL3UcXW9bUaDPSerxL6UGSM+hWswviZVB76z83m94bOJvnJ3or5oM8+9jmhMvrHhgb55t8S+bgx1vrbIxz1Q/aq+xmWpvmejSD3AkrS+QpDOvrvXnb5z3bO+vptgPtqLLb7fFCu+Wv9yvmwqVryatFm+2+zovf87qb4Qwew9Z9f8vtRhsb12QUS8abc1PW4oKr0RLhY9rr43vfgUsL0M0SW+VzxOOw==",
          "dtype": "f4"
         },
         "y": {
          "bdata": "g7oKv8gYG7+ePu2+/RjuvoQWEL9iZgG/bHYRvxGg3r6KJAi/46MCv3bWvr4aM96+CsjLvs3x5L7gKQe/4qvtvkAYBr9Y/Q+/qQsfvy94AL/9C+K+iz0Dv2B97r5EOfa+mx3rvuWz/77TNdK+Eczgvqla+74zrAa/VZPevi/L+L4LsNi+8uL4vnncvr5affy+x0TZvrW8Er9w9/m+TZkHv3mKAL9rPa6+gUHjvsWkF78yd9e+cVX7vvRQBr9oSue+rHnfvp8BAL9jOe2+9U3gvh1YC78cYd6+abIGv1RDCL9Hyf6+bpYFv+zrDb+tnw2/B0oCvwJ04b7puRS/8Xb+vtG9/75xiwm/1cTfvli/Dr8c7cu+rtgLv2vU3r50Vt6+ocvWvvgl+L5qs/e+ZRDivuaCEr+iZuS+4xXwvjGH4b5uggW/AqHtvtrSA7+Jewm/JNXzvuLTA79I4si+IQQMv1hR974Fsw6/DdaxvoBwD7+Vwfe+j5cWv8FPyL7qEgW/UAcCv+aS376t4xu/ZNMLvw==",
          "dtype": "f4"
         },
         "z": {
          "bdata": "qwHGvmXa6b5qaAy/UaEkv2VhAb8A0w+/Snf8vnOFx746dhi/u9f+vi3Rvr7tCim/RgoPv/LbFr+t9O6+Cl8Mv2QZ6b7t9P2+YezMvrWbIL8MBwe/DMkHvygJC7/ABgG/SH4Fv7lCEr8HDga/BxohvzaR574JL9y+a/wsv/i6I78GSR2/XTO6vqujHb+vuAa/AMXwvrmp3r4fQA6/74MEv/9A5L4nfh2/msv4vtC87b7/cBe/8/QJv9o1Cr/8fgS/rAYHv5JbBr+GGxq/yAgOv9k4Db+FYiG/Yhf9vguRyL7wlRS/CN6/vrvq6b4L5Py+j23+vnYj7b7HjuO+rG0Ev3dyCb9/Yfq+zuvlvhg/1746lyK/jSP4vl6ZIr+A4+C+yjkKvzaUFb+IGey+b4sRv+gyD78L1PG+xjfOvgZOE79kEwW/TnEbv7Tt4764bBO/5dgHv6nv9b4XDQe/lvAHv/TB476UFgS/R8HuvoWUzr7qmRS/Z/nFvhLuLr92qwe/JcgHv3h6Jr/m67K+etgNvw==",
          "dtype": "f4"
         }
        }
       ],
       "layout": {
        "annotations": [
         {
          "font": {
           "size": 16
          },
          "showarrow": false,
          "text": "Sample 1",
          "x": 0.225,
          "xanchor": "center",
          "xref": "paper",
          "y": 1,
          "yanchor": "bottom",
          "yref": "paper"
         },
         {
          "font": {
           "size": 16
          },
          "showarrow": false,
          "text": "Sample 2",
          "x": 0.775,
          "xanchor": "center",
          "xref": "paper",
          "y": 1,
          "yanchor": "bottom",
          "yref": "paper"
         },
         {
          "font": {
           "size": 16
          },
          "showarrow": false,
          "text": "Sample 3",
          "x": 0.225,
          "xanchor": "center",
          "xref": "paper",
          "y": 0.375,
          "yanchor": "bottom",
          "yref": "paper"
         },
         {
          "font": {
           "size": 16
          },
          "showarrow": false,
          "text": "Sample 4",
          "x": 0.775,
          "xanchor": "center",
          "xref": "paper",
          "y": 0.375,
          "yanchor": "bottom",
          "yref": "paper"
         }
        ],
        "scene": {
         "domain": {
          "x": [
           0,
           0.45
          ],
          "y": [
           0.625,
           1
          ]
         }
        },
        "scene2": {
         "domain": {
          "x": [
           0.55,
           1
          ],
          "y": [
           0.625,
           1
          ]
         }
        },
        "scene3": {
         "domain": {
          "x": [
           0,
           0.45
          ],
          "y": [
           0,
           0.375
          ]
         }
        },
        "scene4": {
         "domain": {
          "x": [
           0.55,
           1
          ],
          "y": [
           0,
           0.375
          ]
         }
        },
        "showlegend": false,
        "template": {
         "data": {
          "bar": [
           {
            "error_x": {
             "color": "#2a3f5f"
            },
            "error_y": {
             "color": "#2a3f5f"
            },
            "marker": {
             "line": {
              "color": "#E5ECF6",
              "width": 0.5
             },
             "pattern": {
              "fillmode": "overlay",
              "size": 10,
              "solidity": 0.2
             }
            },
            "type": "bar"
           }
          ],
          "barpolar": [
           {
            "marker": {
             "line": {
              "color": "#E5ECF6",
              "width": 0.5
             },
             "pattern": {
              "fillmode": "overlay",
              "size": 10,
              "solidity": 0.2
             }
            },
            "type": "barpolar"
           }
          ],
          "carpet": [
           {
            "aaxis": {
             "endlinecolor": "#2a3f5f",
             "gridcolor": "white",
             "linecolor": "white",
             "minorgridcolor": "white",
             "startlinecolor": "#2a3f5f"
            },
            "baxis": {
             "endlinecolor": "#2a3f5f",
             "gridcolor": "white",
             "linecolor": "white",
             "minorgridcolor": "white",
             "startlinecolor": "#2a3f5f"
            },
            "type": "carpet"
           }
          ],
          "choropleth": [
           {
            "colorbar": {
             "outlinewidth": 0,
             "ticks": ""
            },
            "type": "choropleth"
           }
          ],
          "contour": [
           {
            "colorbar": {
             "outlinewidth": 0,
             "ticks": ""
            },
            "colorscale": [
             [
              0,
              "#0d0887"
             ],
             [
              0.1111111111111111,
              "#46039f"
             ],
             [
              0.2222222222222222,
              "#7201a8"
             ],
             [
              0.3333333333333333,
              "#9c179e"
             ],
             [
              0.4444444444444444,
              "#bd3786"
             ],
             [
              0.5555555555555556,
              "#d8576b"
             ],
             [
              0.6666666666666666,
              "#ed7953"
             ],
             [
              0.7777777777777778,
              "#fb9f3a"
             ],
             [
              0.8888888888888888,
              "#fdca26"
             ],
             [
              1,
              "#f0f921"
             ]
            ],
            "type": "contour"
           }
          ],
          "contourcarpet": [
           {
            "colorbar": {
             "outlinewidth": 0,
             "ticks": ""
            },
            "type": "contourcarpet"
           }
          ],
          "heatmap": [
           {
            "colorbar": {
             "outlinewidth": 0,
             "ticks": ""
            },
            "colorscale": [
             [
              0,
              "#0d0887"
             ],
             [
              0.1111111111111111,
              "#46039f"
             ],
             [
              0.2222222222222222,
              "#7201a8"
             ],
             [
              0.3333333333333333,
              "#9c179e"
             ],
             [
              0.4444444444444444,
              "#bd3786"
             ],
             [
              0.5555555555555556,
              "#d8576b"
             ],
             [
              0.6666666666666666,
              "#ed7953"
             ],
             [
              0.7777777777777778,
              "#fb9f3a"
             ],
             [
              0.8888888888888888,
              "#fdca26"
             ],
             [
              1,
              "#f0f921"
             ]
            ],
            "type": "heatmap"
           }
          ],
          "histogram": [
           {
            "marker": {
             "pattern": {
              "fillmode": "overlay",
              "size": 10,
              "solidity": 0.2
             }
            },
            "type": "histogram"
           }
          ],
          "histogram2d": [
           {
            "colorbar": {
             "outlinewidth": 0,
             "ticks": ""
            },
            "colorscale": [
             [
              0,
              "#0d0887"
             ],
             [
              0.1111111111111111,
              "#46039f"
             ],
             [
              0.2222222222222222,
              "#7201a8"
             ],
             [
              0.3333333333333333,
              "#9c179e"
             ],
             [
              0.4444444444444444,
              "#bd3786"
             ],
             [
              0.5555555555555556,
              "#d8576b"
             ],
             [
              0.6666666666666666,
              "#ed7953"
             ],
             [
              0.7777777777777778,
              "#fb9f3a"
             ],
             [
              0.8888888888888888,
              "#fdca26"
             ],
             [
              1,
              "#f0f921"
             ]
            ],
            "type": "histogram2d"
           }
          ],
          "histogram2dcontour": [
           {
            "colorbar": {
             "outlinewidth": 0,
             "ticks": ""
            },
            "colorscale": [
             [
              0,
              "#0d0887"
             ],
             [
              0.1111111111111111,
              "#46039f"
             ],
             [
              0.2222222222222222,
              "#7201a8"
             ],
             [
              0.3333333333333333,
              "#9c179e"
             ],
             [
              0.4444444444444444,
              "#bd3786"
             ],
             [
              0.5555555555555556,
              "#d8576b"
             ],
             [
              0.6666666666666666,
              "#ed7953"
             ],
             [
              0.7777777777777778,
              "#fb9f3a"
             ],
             [
              0.8888888888888888,
              "#fdca26"
             ],
             [
              1,
              "#f0f921"
             ]
            ],
            "type": "histogram2dcontour"
           }
          ],
          "mesh3d": [
           {
            "colorbar": {
             "outlinewidth": 0,
             "ticks": ""
            },
            "type": "mesh3d"
           }
          ],
          "parcoords": [
           {
            "line": {
             "colorbar": {
              "outlinewidth": 0,
              "ticks": ""
             }
            },
            "type": "parcoords"
           }
          ],
          "pie": [
           {
            "automargin": true,
            "type": "pie"
           }
          ],
          "scatter": [
           {
            "fillpattern": {
             "fillmode": "overlay",
             "size": 10,
             "solidity": 0.2
            },
            "type": "scatter"
           }
          ],
          "scatter3d": [
           {
            "line": {
             "colorbar": {
              "outlinewidth": 0,
              "ticks": ""
             }
            },
            "marker": {
             "colorbar": {
              "outlinewidth": 0,
              "ticks": ""
             }
            },
            "type": "scatter3d"
           }
          ],
          "scattercarpet": [
           {
            "marker": {
             "colorbar": {
              "outlinewidth": 0,
              "ticks": ""
             }
            },
            "type": "scattercarpet"
           }
          ],
          "scattergeo": [
           {
            "marker": {
             "colorbar": {
              "outlinewidth": 0,
              "ticks": ""
             }
            },
            "type": "scattergeo"
           }
          ],
          "scattergl": [
           {
            "marker": {
             "colorbar": {
              "outlinewidth": 0,
              "ticks": ""
             }
            },
            "type": "scattergl"
           }
          ],
          "scattermap": [
           {
            "marker": {
             "colorbar": {
              "outlinewidth": 0,
              "ticks": ""
             }
            },
            "type": "scattermap"
           }
          ],
          "scattermapbox": [
           {
            "marker": {
             "colorbar": {
              "outlinewidth": 0,
              "ticks": ""
             }
            },
            "type": "scattermapbox"
           }
          ],
          "scatterpolar": [
           {
            "marker": {
             "colorbar": {
              "outlinewidth": 0,
              "ticks": ""
             }
            },
            "type": "scatterpolar"
           }
          ],
          "scatterpolargl": [
           {
            "marker": {
             "colorbar": {
              "outlinewidth": 0,
              "ticks": ""
             }
            },
            "type": "scatterpolargl"
           }
          ],
          "scatterternary": [
           {
            "marker": {
             "colorbar": {
              "outlinewidth": 0,
              "ticks": ""
             }
            },
            "type": "scatterternary"
           }
          ],
          "surface": [
           {
            "colorbar": {
             "outlinewidth": 0,
             "ticks": ""
            },
            "colorscale": [
             [
              0,
              "#0d0887"
             ],
             [
              0.1111111111111111,
              "#46039f"
             ],
             [
              0.2222222222222222,
              "#7201a8"
             ],
             [
              0.3333333333333333,
              "#9c179e"
             ],
             [
              0.4444444444444444,
              "#bd3786"
             ],
             [
              0.5555555555555556,
              "#d8576b"
             ],
             [
              0.6666666666666666,
              "#ed7953"
             ],
             [
              0.7777777777777778,
              "#fb9f3a"
             ],
             [
              0.8888888888888888,
              "#fdca26"
             ],
             [
              1,
              "#f0f921"
             ]
            ],
            "type": "surface"
           }
          ],
          "table": [
           {
            "cells": {
             "fill": {
              "color": "#EBF0F8"
             },
             "line": {
              "color": "white"
             }
            },
            "header": {
             "fill": {
              "color": "#C8D4E3"
             },
             "line": {
              "color": "white"
             }
            },
            "type": "table"
           }
          ]
         },
         "layout": {
          "annotationdefaults": {
           "arrowcolor": "#2a3f5f",
           "arrowhead": 0,
           "arrowwidth": 1
          },
          "autotypenumbers": "strict",
          "coloraxis": {
           "colorbar": {
            "outlinewidth": 0,
            "ticks": ""
           }
          },
          "colorscale": {
           "diverging": [
            [
             0,
             "#8e0152"
            ],
            [
             0.1,
             "#c51b7d"
            ],
            [
             0.2,
             "#de77ae"
            ],
            [
             0.3,
             "#f1b6da"
            ],
            [
             0.4,
             "#fde0ef"
            ],
            [
             0.5,
             "#f7f7f7"
            ],
            [
             0.6,
             "#e6f5d0"
            ],
            [
             0.7,
             "#b8e186"
            ],
            [
             0.8,
             "#7fbc41"
            ],
            [
             0.9,
             "#4d9221"
            ],
            [
             1,
             "#276419"
            ]
           ],
           "sequential": [
            [
             0,
             "#0d0887"
            ],
            [
             0.1111111111111111,
             "#46039f"
            ],
            [
             0.2222222222222222,
             "#7201a8"
            ],
            [
             0.3333333333333333,
             "#9c179e"
            ],
            [
             0.4444444444444444,
             "#bd3786"
            ],
            [
             0.5555555555555556,
             "#d8576b"
            ],
            [
             0.6666666666666666,
             "#ed7953"
            ],
            [
             0.7777777777777778,
             "#fb9f3a"
            ],
            [
             0.8888888888888888,
             "#fdca26"
            ],
            [
             1,
             "#f0f921"
            ]
           ],
           "sequentialminus": [
            [
             0,
             "#0d0887"
            ],
            [
             0.1111111111111111,
             "#46039f"
            ],
            [
             0.2222222222222222,
             "#7201a8"
            ],
            [
             0.3333333333333333,
             "#9c179e"
            ],
            [
             0.4444444444444444,
             "#bd3786"
            ],
            [
             0.5555555555555556,
             "#d8576b"
            ],
            [
             0.6666666666666666,
             "#ed7953"
            ],
            [
             0.7777777777777778,
             "#fb9f3a"
            ],
            [
             0.8888888888888888,
             "#fdca26"
            ],
            [
             1,
             "#f0f921"
            ]
           ]
          },
          "colorway": [
           "#636efa",
           "#EF553B",
           "#00cc96",
           "#ab63fa",
           "#FFA15A",
           "#19d3f3",
           "#FF6692",
           "#B6E880",
           "#FF97FF",
           "#FECB52"
          ],
          "font": {
           "color": "#2a3f5f"
          },
          "geo": {
           "bgcolor": "white",
           "lakecolor": "white",
           "landcolor": "#E5ECF6",
           "showlakes": true,
           "showland": true,
           "subunitcolor": "white"
          },
          "hoverlabel": {
           "align": "left"
          },
          "hovermode": "closest",
          "mapbox": {
           "style": "light"
          },
          "paper_bgcolor": "white",
          "plot_bgcolor": "#E5ECF6",
          "polar": {
           "angularaxis": {
            "gridcolor": "white",
            "linecolor": "white",
            "ticks": ""
           },
           "bgcolor": "#E5ECF6",
           "radialaxis": {
            "gridcolor": "white",
            "linecolor": "white",
            "ticks": ""
           }
          },
          "scene": {
           "xaxis": {
            "backgroundcolor": "#E5ECF6",
            "gridcolor": "white",
            "gridwidth": 2,
            "linecolor": "white",
            "showbackground": true,
            "ticks": "",
            "zerolinecolor": "white"
           },
           "yaxis": {
            "backgroundcolor": "#E5ECF6",
            "gridcolor": "white",
            "gridwidth": 2,
            "linecolor": "white",
            "showbackground": true,
            "ticks": "",
            "zerolinecolor": "white"
           },
           "zaxis": {
            "backgroundcolor": "#E5ECF6",
            "gridcolor": "white",
            "gridwidth": 2,
            "linecolor": "white",
            "showbackground": true,
            "ticks": "",
            "zerolinecolor": "white"
           }
          },
          "shapedefaults": {
           "line": {
            "color": "#2a3f5f"
           }
          },
          "ternary": {
           "aaxis": {
            "gridcolor": "white",
            "linecolor": "white",
            "ticks": ""
           },
           "baxis": {
            "gridcolor": "white",
            "linecolor": "white",
            "ticks": ""
           },
           "bgcolor": "#E5ECF6",
           "caxis": {
            "gridcolor": "white",
            "linecolor": "white",
            "ticks": ""
           }
          },
          "title": {
           "x": 0.05
          },
          "xaxis": {
           "automargin": true,
           "gridcolor": "white",
           "linecolor": "white",
           "ticks": "",
           "title": {
            "standoff": 15
           },
           "zerolinecolor": "white",
           "zerolinewidth": 2
          },
          "yaxis": {
           "automargin": true,
           "gridcolor": "white",
           "linecolor": "white",
           "ticks": "",
           "title": {
            "standoff": 15
           },
           "zerolinecolor": "white",
           "zerolinewidth": 2
          }
         }
        },
        "title": {
         "text": "Batch Point Clouds with Uncertainty"
        }
       }
      }
     },
     "metadata": {},
     "output_type": "display_data"
    }
   ],
   "source": [
    "from plotly.subplots import make_subplots\n",
    "import plotly.graph_objects as go\n",
    "\n",
    "def plot_batch_point_clouds(batch):\n",
    "    \"\"\"可视化一个batch的点云样本在4个子图中\"\"\"\n",
    "    # 创建4个3D子图的布局\n",
    "    fig = make_subplots(\n",
    "        rows=2, cols=2,\n",
    "        specs=[[{'type': 'scatter3d'}, {'type': 'scatter3d'}],\n",
    "               [{'type': 'scatter3d'}, {'type': 'scatter3d'}]],\n",
    "        subplot_titles=[f'Sample {i+1}' for i in range(4)]\n",
    "    )\n",
    "    \n",
    "    # 遍历batch中的前4个样本\n",
    "    for i in range(4):\n",
    "        world_coords = batch['world_coordinates'][i].numpy()  # (M_s, 3)\n",
    "        pixel_coords = batch['pixel_coordinates'][i].numpy()  # (2,)\n",
    "        depth = batch['depth'][i].item()                     # scalar\n",
    "        \n",
    "        # 添加点云到对应的子图\n",
    "        fig.add_trace(go.Scatter3d(\n",
    "            x=world_coords[:, 0],\n",
    "            y=world_coords[:, 1],\n",
    "            z=world_coords[:, 2],\n",
    "            mode='markers',\n",
    "            marker=dict(\n",
    "                size=2,\n",
    "                opacity=0.6\n",
    "            ),\n",
    "            name=f'Sample {i+1} (u={pixel_coords[0]:.1f}, v={pixel_coords[1]:.1f}, d={depth:.2f})'\n",
    "        ), row=(i//2)+1, col=(i%2)+1)\n",
    "    \n",
    "    # 更新布局\n",
    "    fig.update_layout(\n",
    "        title='Batch Point Clouds with Uncertainty',\n",
    "        showlegend=False\n",
    "    )\n",
    "    \n",
    "    return fig\n",
    "\n",
    "# 获取一个batch并可视化\n",
    "batch = next(iter(dataloader))\n",
    "fig = plot_batch_point_clouds(batch)\n",
    "fig.show()\n"
   ]
  }
 ],
 "metadata": {
  "kernelspec": {
   "display_name": "deepl",
   "language": "python",
   "name": "python3"
  },
  "language_info": {
   "codemirror_mode": {
    "name": "ipython",
    "version": 3
   },
   "file_extension": ".py",
   "mimetype": "text/x-python",
   "name": "python",
   "nbconvert_exporter": "python",
   "pygments_lexer": "ipython3",
   "version": "3.10.14"
  }
 },
 "nbformat": 4,
 "nbformat_minor": 2
}
