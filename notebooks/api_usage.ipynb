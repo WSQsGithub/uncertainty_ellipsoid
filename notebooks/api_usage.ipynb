{
 "cells": [
  {
   "cell_type": "markdown",
   "metadata": {},
   "source": [
    "# API Usage Example"
   ]
  },
  {
   "cell_type": "code",
   "execution_count": null,
   "metadata": {},
   "outputs": [
    {
     "ename": "",
     "evalue": "",
     "output_type": "error",
     "traceback": [
      "\u001b[1;31mFailed to start the Kernel. \n",
      "\u001b[1;31mTraceback (most recent call last):\n",
      "\u001b[1;31m  File \"/opt/homebrew/Caskroom/miniconda/base/envs/deepl/lib/python3.10/runpy.py\", line 196, in _run_module_as_main\n",
      "\u001b[1;31m    return _run_code(code, main_globals, None,\n",
      "\u001b[1;31m  File \"/opt/homebrew/Caskroom/miniconda/base/envs/deepl/lib/python3.10/runpy.py\", line 86, in _run_code\n",
      "\u001b[1;31m    exec(code, run_globals)\n",
      "\u001b[1;31m  File \"/opt/homebrew/Caskroom/miniconda/base/envs/deepl/lib/python3.10/site-packages/ipykernel_launcher.py\", line 16, in <module>\n",
      "\u001b[1;31m    from ipykernel import kernelapp as app\n",
      "\u001b[1;31m  File \"/opt/homebrew/Caskroom/miniconda/base/envs/deepl/lib/python3.10/site-packages/ipykernel/kernelapp.py\", line 21, in <module>\n",
      "\u001b[1;31m    from IPython.core.application import (  # type:ignore[attr-defined]\n",
      "\u001b[1;31m  File \"/opt/homebrew/Caskroom/miniconda/base/envs/deepl/lib/python3.10/site-packages/IPython/__init__.py\", line 55, in <module>\n",
      "\u001b[1;31m    from .terminal.embed import embed\n",
      "\u001b[1;31m  File \"/opt/homebrew/Caskroom/miniconda/base/envs/deepl/lib/python3.10/site-packages/IPython/terminal/embed.py\", line 15, in <module>\n",
      "\u001b[1;31m    from IPython.core.interactiveshell import DummyMod, InteractiveShell\n",
      "\u001b[1;31m  File \"/opt/homebrew/Caskroom/miniconda/base/envs/deepl/lib/python3.10/site-packages/IPython/core/interactiveshell.py\", line 110, in <module>\n",
      "\u001b[1;31m    from IPython.core.history import HistoryManager\n",
      "\u001b[1;31m  File \"/opt/homebrew/Caskroom/miniconda/base/envs/deepl/lib/python3.10/site-packages/IPython/core/history.py\", line 10, in <module>\n",
      "\u001b[1;31m    import sqlite3\n",
      "\u001b[1;31m  File \"/opt/homebrew/Caskroom/miniconda/base/envs/deepl/lib/python3.10/sqlite3/__init__.py\", line 57, in <module>\n",
      "\u001b[1;31m    from sqlite3.dbapi2 import *\n",
      "\u001b[1;31m  File \"/opt/homebrew/Caskroom/miniconda/base/envs/deepl/lib/python3.10/sqlite3/dbapi2.py\", line 27, in <module>\n",
      "\u001b[1;31m    from _sqlite3 import *\n",
      "\u001b[1;31mImportError: dlopen(/opt/homebrew/Caskroom/miniconda/base/envs/deepl/lib/python3.10/lib-dynload/_sqlite3.cpython-310-darwin.so, 0x0002): Symbol not found: _sqlite3_enable_load_extension\n",
      "\u001b[1;31m  Referenced from: <9B204ADF-634D-313B-BF22-2EF81C0098D7> /opt/homebrew/Caskroom/miniconda/base/envs/deepl/lib/python3.10/lib-dynload/_sqlite3.cpython-310-darwin.so\n",
      "\u001b[1;31m  Expected in:     <03A3F0E0-3898-360D-8138-2A6E0E43CC70> /usr/lib/libsqlite3.dylib. \n",
      "\u001b[1;31mView Jupyter <a href='command:jupyter.viewOutput'>log</a> for further details."
     ]
    }
   ],
   "source": [
    "%load_ext autoreload\n",
    "%autoreload 2"
   ]
  },
  {
   "cell_type": "code",
   "execution_count": null,
   "metadata": {},
   "outputs": [
    {
     "ename": "",
     "evalue": "",
     "output_type": "error",
     "traceback": [
      "\u001b[1;31mFailed to start the Kernel. \n",
      "\u001b[1;31mTraceback (most recent call last):\n",
      "\u001b[1;31m  File \"/opt/homebrew/Caskroom/miniconda/base/envs/deepl/lib/python3.10/runpy.py\", line 196, in _run_module_as_main\n",
      "\u001b[1;31m    return _run_code(code, main_globals, None,\n",
      "\u001b[1;31m  File \"/opt/homebrew/Caskroom/miniconda/base/envs/deepl/lib/python3.10/runpy.py\", line 86, in _run_code\n",
      "\u001b[1;31m    exec(code, run_globals)\n",
      "\u001b[1;31m  File \"/opt/homebrew/Caskroom/miniconda/base/envs/deepl/lib/python3.10/site-packages/ipykernel_launcher.py\", line 16, in <module>\n",
      "\u001b[1;31m    from ipykernel import kernelapp as app\n",
      "\u001b[1;31m  File \"/opt/homebrew/Caskroom/miniconda/base/envs/deepl/lib/python3.10/site-packages/ipykernel/kernelapp.py\", line 21, in <module>\n",
      "\u001b[1;31m    from IPython.core.application import (  # type:ignore[attr-defined]\n",
      "\u001b[1;31m  File \"/opt/homebrew/Caskroom/miniconda/base/envs/deepl/lib/python3.10/site-packages/IPython/__init__.py\", line 55, in <module>\n",
      "\u001b[1;31m    from .terminal.embed import embed\n",
      "\u001b[1;31m  File \"/opt/homebrew/Caskroom/miniconda/base/envs/deepl/lib/python3.10/site-packages/IPython/terminal/embed.py\", line 15, in <module>\n",
      "\u001b[1;31m    from IPython.core.interactiveshell import DummyMod, InteractiveShell\n",
      "\u001b[1;31m  File \"/opt/homebrew/Caskroom/miniconda/base/envs/deepl/lib/python3.10/site-packages/IPython/core/interactiveshell.py\", line 110, in <module>\n",
      "\u001b[1;31m    from IPython.core.history import HistoryManager\n",
      "\u001b[1;31m  File \"/opt/homebrew/Caskroom/miniconda/base/envs/deepl/lib/python3.10/site-packages/IPython/core/history.py\", line 10, in <module>\n",
      "\u001b[1;31m    import sqlite3\n",
      "\u001b[1;31m  File \"/opt/homebrew/Caskroom/miniconda/base/envs/deepl/lib/python3.10/sqlite3/__init__.py\", line 57, in <module>\n",
      "\u001b[1;31m    from sqlite3.dbapi2 import *\n",
      "\u001b[1;31m  File \"/opt/homebrew/Caskroom/miniconda/base/envs/deepl/lib/python3.10/sqlite3/dbapi2.py\", line 27, in <module>\n",
      "\u001b[1;31m    from _sqlite3 import *\n",
      "\u001b[1;31mImportError: dlopen(/opt/homebrew/Caskroom/miniconda/base/envs/deepl/lib/python3.10/lib-dynload/_sqlite3.cpython-310-darwin.so, 0x0002): Symbol not found: _sqlite3_enable_load_extension\n",
      "\u001b[1;31m  Referenced from: <9B204ADF-634D-313B-BF22-2EF81C0098D7> /opt/homebrew/Caskroom/miniconda/base/envs/deepl/lib/python3.10/lib-dynload/_sqlite3.cpython-310-darwin.so\n",
      "\u001b[1;31m  Expected in:     <03A3F0E0-3898-360D-8138-2A6E0E43CC70> /usr/lib/libsqlite3.dylib. \n",
      "\u001b[1;31mView Jupyter <a href='command:jupyter.viewOutput'>log</a> for further details."
     ]
    }
   ],
   "source": [
    "import requests\n",
    "import plotly.graph_objects as go\n",
    "\n",
    "URL = \"http://localhost:8000\""
   ]
  },
  {
   "cell_type": "code",
   "execution_count": null,
   "metadata": {},
   "outputs": [],
   "source": [
    "response = requests.get(URL / \"health\")\n",
    "print(response.json())"
   ]
  },
  {
   "cell_type": "code",
   "execution_count": null,
   "metadata": {},
   "outputs": [],
   "source": [
    "data = {\n",
    "    \"pixel_coordinates\": [240, 320],\n",
    "    \"depth\": 0.5,\n",
    "    \"uncertainty_set\": [\n",
    "        600,\n",
    "        610,\n",
    "        600,\n",
    "        610,\n",
    "        310,\n",
    "        320,\n",
    "        250,\n",
    "        260,\n",
    "        1.2,\n",
    "        1.5,\n",
    "        -1.2,\n",
    "        -0.9,\n",
    "        1.2,\n",
    "        1.5,\n",
    "        -0.1,\n",
    "        0.1,\n",
    "        -0.1,\n",
    "        0.1,\n",
    "        -0.15,\n",
    "        -0.1,\n",
    "    ],\n",
    "}"
   ]
  }
 ],
 "metadata": {
  "kernelspec": {
   "display_name": "deepl",
   "language": "python",
   "name": "python3"
  },
  "language_info": {
   "name": "python",
   "version": "3.10.13"
  }
 },
 "nbformat": 4,
 "nbformat_minor": 2
}
